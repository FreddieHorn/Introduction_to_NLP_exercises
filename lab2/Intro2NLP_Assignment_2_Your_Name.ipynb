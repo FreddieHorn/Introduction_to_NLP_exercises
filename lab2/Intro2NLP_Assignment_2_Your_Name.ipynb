{
 "cells": [
  {
   "cell_type": "markdown",
   "id": "92073528",
   "metadata": {},
   "source": [
    "# Introduction to Natural Language Processing: Assignment 2\n",
    "\n",
    "In this exercise we'll practice training and testing classifiers.\n",
    "\n",
    "- You can use built-in Python packages, scikit-learn and Pandas.\n",
    "- Please comment your code\n",
    "- Submissions are due Sunday at 23:59 **only** on Ilias: **Assignmnets >> Student Submissions >> Assignment 2 (Deadline: 30.04.2023, at 23:59)**\n",
    "\n",
    "- Name the file aproppriately \"Assignment_2_\\<Your_Name\\>.ipynb\".\n",
    "- Please use relative paths, your code should run on my computer if the notebook and the file are both in the same directory.\n",
    "\n",
    "Example: file_name = polarity.txt >> **DON'T use:** /Users/ComputerName/Username/Documents/.../polarity.txt"
   ]
  },
  {
   "cell_type": "markdown",
   "id": "7ef5be54",
   "metadata": {},
   "source": [
    "### Task 1.1 (1 point)\n",
    "\n",
    "Create a DataFrame using the `polarity.txt` file and give name to the columns appropriately. (e.g., \"Text\", \"Label\")"
   ]
  },
  {
   "cell_type": "code",
   "execution_count": 25,
   "id": "8790350a",
   "metadata": {},
   "outputs": [],
   "source": [
    "import pandas as pd"
   ]
  },
  {
   "cell_type": "code",
   "execution_count": 13,
   "id": "a259fbec",
   "metadata": {},
   "outputs": [
    {
     "data": {
      "text/html": [
       "<div>\n",
       "<style scoped>\n",
       "    .dataframe tbody tr th:only-of-type {\n",
       "        vertical-align: middle;\n",
       "    }\n",
       "\n",
       "    .dataframe tbody tr th {\n",
       "        vertical-align: top;\n",
       "    }\n",
       "\n",
       "    .dataframe thead th {\n",
       "        text-align: right;\n",
       "    }\n",
       "</style>\n",
       "<table border=\"1\" class=\"dataframe\">\n",
       "  <thead>\n",
       "    <tr style=\"text-align: right;\">\n",
       "      <th></th>\n",
       "      <th>Text</th>\n",
       "      <th>Label</th>\n",
       "    </tr>\n",
       "  </thead>\n",
       "  <tbody>\n",
       "    <tr>\n",
       "      <th>0</th>\n",
       "      <td>every now and then a movie comes along from a ...</td>\n",
       "      <td>pos</td>\n",
       "    </tr>\n",
       "    <tr>\n",
       "      <th>1</th>\n",
       "      <td>mtv films' _election , a high school comedy st...</td>\n",
       "      <td>pos</td>\n",
       "    </tr>\n",
       "    <tr>\n",
       "      <th>2</th>\n",
       "      <td>did anybody know this film existed a week befo...</td>\n",
       "      <td>pos</td>\n",
       "    </tr>\n",
       "    <tr>\n",
       "      <th>3</th>\n",
       "      <td>the plot is deceptively simple .</td>\n",
       "      <td>pos</td>\n",
       "    </tr>\n",
       "    <tr>\n",
       "      <th>4</th>\n",
       "      <td>george washington carver high school is having...</td>\n",
       "      <td>pos</td>\n",
       "    </tr>\n",
       "    <tr>\n",
       "      <th>...</th>\n",
       "      <td>...</td>\n",
       "      <td>...</td>\n",
       "    </tr>\n",
       "    <tr>\n",
       "      <th>69</th>\n",
       "      <td>it also wrapped production two years ago and h...</td>\n",
       "      <td>neg</td>\n",
       "    </tr>\n",
       "    <tr>\n",
       "      <th>70</th>\n",
       "      <td>whatever . . . skip</td>\n",
       "      <td>neg</td>\n",
       "    </tr>\n",
       "    <tr>\n",
       "      <th>71</th>\n",
       "      <td>it !</td>\n",
       "      <td>neg</td>\n",
       "    </tr>\n",
       "    <tr>\n",
       "      <th>72</th>\n",
       "      <td>where's joblo coming from ?</td>\n",
       "      <td>neg</td>\n",
       "    </tr>\n",
       "    <tr>\n",
       "      <th>73</th>\n",
       "      <td>a nightmare of elm street 3 ( 7/10 ) - blair w...</td>\n",
       "      <td>pos</td>\n",
       "    </tr>\n",
       "  </tbody>\n",
       "</table>\n",
       "<p>74 rows × 2 columns</p>\n",
       "</div>"
      ],
      "text/plain": [
       "                                                 Text Label\n",
       "0   every now and then a movie comes along from a ...   pos\n",
       "1   mtv films' _election , a high school comedy st...   pos\n",
       "2   did anybody know this film existed a week befo...   pos\n",
       "3                   the plot is deceptively simple .    pos\n",
       "4   george washington carver high school is having...   pos\n",
       "..                                                ...   ...\n",
       "69  it also wrapped production two years ago and h...   neg\n",
       "70                               whatever . . . skip    neg\n",
       "71                                              it !    neg\n",
       "72                       where's joblo coming from ?    neg\n",
       "73  a nightmare of elm street 3 ( 7/10 ) - blair w...   pos\n",
       "\n",
       "[74 rows x 2 columns]"
      ]
     },
     "metadata": {},
     "output_type": "display_data"
    }
   ],
   "source": [
    "#here comes your code\n",
    "dict = {}\n",
    "texts_list = []\n",
    "label_list = []\n",
    "with open(\"polarity.txt\", \"r\", encoding='utf-8-sig') as infile: \n",
    "    for line in infile: \n",
    "        key, value = line.strip().split(\"\\t\")\n",
    "        texts_list.append(key)\n",
    "        label_list.append(value)\n",
    "\n",
    "dict[\"Text\"] = texts_list\n",
    "dict[\"Label\"] = label_list\n",
    "\n",
    "df = pd.DataFrame(data=dict)\n",
    "\n",
    "display(df)"
   ]
  },
  {
   "cell_type": "markdown",
   "id": "7b505bc8",
   "metadata": {},
   "source": [
    "### Task 1.2 (1 point)\n",
    "\n",
    "Create a new column for the DataFrame that contains labels converted to numerical values instead of strings using the function: `apply()` and drop the original column afterwards.\n",
    "\n",
    "Hint: The numarical values can be any meaningful values, e.g., pos >> 1 and neg >> 0"
   ]
  },
  {
   "cell_type": "code",
   "execution_count": 22,
   "id": "0b671658",
   "metadata": {},
   "outputs": [],
   "source": [
    "# here comes your code\n",
    "def converter(input_string):\n",
    "    if input_string == \"pos\":\n",
    "        return 1\n",
    "    elif input_string == \"neg\":\n",
    "        return 0\n",
    "df2 = df\n",
    "df[\"Label\"] = df[\"Label\"].apply(converter)"
   ]
  },
  {
   "cell_type": "code",
   "execution_count": 20,
   "id": "2b3686df",
   "metadata": {},
   "outputs": [
    {
     "data": {
      "text/html": [
       "<div>\n",
       "<style scoped>\n",
       "    .dataframe tbody tr th:only-of-type {\n",
       "        vertical-align: middle;\n",
       "    }\n",
       "\n",
       "    .dataframe tbody tr th {\n",
       "        vertical-align: top;\n",
       "    }\n",
       "\n",
       "    .dataframe thead th {\n",
       "        text-align: right;\n",
       "    }\n",
       "</style>\n",
       "<table border=\"1\" class=\"dataframe\">\n",
       "  <thead>\n",
       "    <tr style=\"text-align: right;\">\n",
       "      <th></th>\n",
       "      <th>Text</th>\n",
       "      <th>Label</th>\n",
       "    </tr>\n",
       "  </thead>\n",
       "  <tbody>\n",
       "    <tr>\n",
       "      <th>0</th>\n",
       "      <td>every now and then a movie comes along from a ...</td>\n",
       "      <td>1</td>\n",
       "    </tr>\n",
       "    <tr>\n",
       "      <th>1</th>\n",
       "      <td>mtv films' _election , a high school comedy st...</td>\n",
       "      <td>1</td>\n",
       "    </tr>\n",
       "    <tr>\n",
       "      <th>2</th>\n",
       "      <td>did anybody know this film existed a week befo...</td>\n",
       "      <td>1</td>\n",
       "    </tr>\n",
       "    <tr>\n",
       "      <th>3</th>\n",
       "      <td>the plot is deceptively simple .</td>\n",
       "      <td>1</td>\n",
       "    </tr>\n",
       "    <tr>\n",
       "      <th>4</th>\n",
       "      <td>george washington carver high school is having...</td>\n",
       "      <td>1</td>\n",
       "    </tr>\n",
       "    <tr>\n",
       "      <th>...</th>\n",
       "      <td>...</td>\n",
       "      <td>...</td>\n",
       "    </tr>\n",
       "    <tr>\n",
       "      <th>69</th>\n",
       "      <td>it also wrapped production two years ago and h...</td>\n",
       "      <td>0</td>\n",
       "    </tr>\n",
       "    <tr>\n",
       "      <th>70</th>\n",
       "      <td>whatever . . . skip</td>\n",
       "      <td>0</td>\n",
       "    </tr>\n",
       "    <tr>\n",
       "      <th>71</th>\n",
       "      <td>it !</td>\n",
       "      <td>0</td>\n",
       "    </tr>\n",
       "    <tr>\n",
       "      <th>72</th>\n",
       "      <td>where's joblo coming from ?</td>\n",
       "      <td>0</td>\n",
       "    </tr>\n",
       "    <tr>\n",
       "      <th>73</th>\n",
       "      <td>a nightmare of elm street 3 ( 7/10 ) - blair w...</td>\n",
       "      <td>1</td>\n",
       "    </tr>\n",
       "  </tbody>\n",
       "</table>\n",
       "<p>74 rows × 2 columns</p>\n",
       "</div>"
      ],
      "text/plain": [
       "                                                 Text  Label\n",
       "0   every now and then a movie comes along from a ...      1\n",
       "1   mtv films' _election , a high school comedy st...      1\n",
       "2   did anybody know this film existed a week befo...      1\n",
       "3                   the plot is deceptively simple .       1\n",
       "4   george washington carver high school is having...      1\n",
       "..                                                ...    ...\n",
       "69  it also wrapped production two years ago and h...      0\n",
       "70                               whatever . . . skip       0\n",
       "71                                              it !       0\n",
       "72                       where's joblo coming from ?       0\n",
       "73  a nightmare of elm street 3 ( 7/10 ) - blair w...      1\n",
       "\n",
       "[74 rows x 2 columns]"
      ]
     },
     "metadata": {},
     "output_type": "display_data"
    }
   ],
   "source": [
    "display(df)"
   ]
  },
  {
   "cell_type": "markdown",
   "id": "72cb8626",
   "metadata": {},
   "source": [
    "### Bonus point (1 point)\n",
    "\n",
    "Is there any other way of converting strings in the column label to numerical values without using the function: `apply()`?"
   ]
  },
  {
   "cell_type": "code",
   "execution_count": 23,
   "id": "96b0fcae",
   "metadata": {},
   "outputs": [
    {
     "name": "stdout",
     "output_type": "stream",
     "text": [
      "{None: None}\n"
     ]
    }
   ],
   "source": [
    "#here comes your code\n",
    "dict_res = {x: converter(x) for x in df2[\"Label\"].values}\n",
    "print(dict_res)"
   ]
  },
  {
   "cell_type": "markdown",
   "id": "53dcdd4c",
   "metadata": {},
   "source": [
    "### Task 2 (4 points)\n",
    "\n",
    "Write a function `create_count_and_probability` that takes a file (`corpus.txt`) as input and returns a csv file as output containing three columns:\n",
    "1. Text\n",
    "2. Count_Vector\n",
    "3. Probability\n",
    "\n",
    "Example:\n",
    "\n",
    "For the line: `This document is the second document.`\n",
    "\n",
    "The row in the csv file should contain:\n",
    "`This document is the second document.`   `[0,2,0,1,0,1,1,0,1]`   `[1/6, 2/6, 1/6, 1/6, 1/6, 2/6]`\n",
    "\n",
    "**Note**:\n",
    "\n",
    "1. You should define your own function and not use e.g., CountVectorizer() which gives you the `count vector`, directly.\n",
    "\n",
    "2. You can either use the whitespace in `split` as the seperator or use the `Regular Expression (re)` to extract the words, as follows:\n",
    "\n",
    "```\n",
    "import re\n",
    "TEXT = \"Hey, - How are you doing today!?\"\n",
    "words_list = re.findall(r\"[\\w']+\", TEXT)\n",
    "print(words_list)\n",
    "```\n",
    "\n",
    "3. To count the words, you can use e.g., the library: `collections`, more specifically `Counter`.\n",
    "\n",
    "4. Please don't upload the output file. Your function should generate the file."
   ]
  },
  {
   "cell_type": "code",
   "execution_count": 26,
   "id": "687c5a0e",
   "metadata": {},
   "outputs": [],
   "source": [
    "import re\n",
    "import csv\n",
    "import pandas as pd"
   ]
  },
  {
   "cell_type": "code",
   "execution_count": 5,
   "id": "9e9a7d38",
   "metadata": {},
   "outputs": [],
   "source": [
    "def extract_words(line):\n",
    "    words_list = re.findall(r\"[\\w']+\", line)\n",
    "    return [x.lower() for x in words_list]"
   ]
  },
  {
   "cell_type": "code",
   "execution_count": 20,
   "id": "5d0c375a",
   "metadata": {},
   "outputs": [],
   "source": [
    "def sentence_count_and_probability(sentence, dictionary):\n",
    "    count_vector = [0] * len(dictionary)\n",
    "    probability = []\n",
    "    probability_lookup = dict.fromkeys(sentence, 0)\n",
    "    for word in sentence:\n",
    "        count_vector[dictionary[word]] += 1\n",
    "        probability_lookup[word] += 1\n",
    "        probability.append(probability_lookup[word]/len(sentence))\n",
    "\n",
    "    return count_vector, probability\n"
   ]
  },
  {
   "cell_type": "code",
   "execution_count": 33,
   "id": "a1a09321",
   "metadata": {},
   "outputs": [],
   "source": [
    "def create_count_and_probability(file_name):\n",
    "    # here comes your code\n",
    "    words_list = []\n",
    "    sentences = []\n",
    "    original_sentences = []\n",
    "    with open(file_name, \"r\") as infile: \n",
    "        for line in infile:\n",
    "            original_sentences.append(line.strip('\\n'))\n",
    "            words_list.extend(extract_words(line))\n",
    "            sentences.append(extract_words(line))\n",
    "\n",
    "    unique_words = list(dict.fromkeys(words_list))\n",
    "    lookup_dict = {}\n",
    "    for ind, word in enumerate(unique_words):\n",
    "        lookup_dict[word] = ind\n",
    "\n",
    "    d = {\"Text\" : [], \"Count_Vector\" : [], \"Probability\" : []}\n",
    "    Text = []\n",
    "    Count_Vec = []\n",
    "    Prob = []\n",
    "    for i, sentence in enumerate(sentences):\n",
    "        count_vector, probability = sentence_count_and_probability(sentence, lookup_dict)\n",
    "        Text.append(original_sentences[i])\n",
    "        Count_Vec.append(count_vector)\n",
    "        Prob.append(probability)\n",
    "    \n",
    "    d[\"Text\"] = Text\n",
    "    d[\"Count_Vector\"] = Count_Vec\n",
    "    d[\"Probability\"] = Prob\n",
    "    print(d)\n",
    "    df = pd.DataFrame(data=d)\n",
    "    \n",
    "    df.to_csv(\"corpus_count_and_probability.csv\", index=False)\n"
   ]
  },
  {
   "cell_type": "code",
   "execution_count": 34,
   "id": "11969f7b",
   "metadata": {},
   "outputs": [
    {
     "name": "stdout",
     "output_type": "stream",
     "text": [
      "{'Text': ['This is the first document.', 'This document is the second document.', 'And this is the third one.', 'Is this the first document?'], 'Count_Vector': [[1, 1, 1, 1, 1, 0, 0, 0, 0], [1, 1, 1, 0, 2, 1, 0, 0, 0], [1, 1, 1, 0, 0, 0, 1, 1, 1], [1, 1, 1, 1, 1, 0, 0, 0, 0]], 'Probability': [[0.2, 0.2, 0.2, 0.2, 0.2], [0.16666666666666666, 0.16666666666666666, 0.16666666666666666, 0.16666666666666666, 0.16666666666666666, 0.3333333333333333], [0.16666666666666666, 0.16666666666666666, 0.16666666666666666, 0.16666666666666666, 0.16666666666666666, 0.16666666666666666], [0.2, 0.2, 0.2, 0.2, 0.2]]}\n"
     ]
    }
   ],
   "source": [
    "create_count_and_probability(\"corpus.txt\")"
   ]
  },
  {
   "cell_type": "code",
   "execution_count": 35,
   "id": "6e83d094",
   "metadata": {},
   "outputs": [
    {
     "data": {
      "text/html": [
       "<div>\n",
       "<style scoped>\n",
       "    .dataframe tbody tr th:only-of-type {\n",
       "        vertical-align: middle;\n",
       "    }\n",
       "\n",
       "    .dataframe tbody tr th {\n",
       "        vertical-align: top;\n",
       "    }\n",
       "\n",
       "    .dataframe thead th {\n",
       "        text-align: right;\n",
       "    }\n",
       "</style>\n",
       "<table border=\"1\" class=\"dataframe\">\n",
       "  <thead>\n",
       "    <tr style=\"text-align: right;\">\n",
       "      <th></th>\n",
       "      <th>Text</th>\n",
       "      <th>Count_Vector</th>\n",
       "      <th>Probability</th>\n",
       "    </tr>\n",
       "  </thead>\n",
       "  <tbody>\n",
       "    <tr>\n",
       "      <th>0</th>\n",
       "      <td>This is the first document.</td>\n",
       "      <td>[1, 1, 1, 1, 1, 0, 0, 0, 0]</td>\n",
       "      <td>[0.2, 0.2, 0.2, 0.2, 0.2]</td>\n",
       "    </tr>\n",
       "    <tr>\n",
       "      <th>1</th>\n",
       "      <td>This document is the second document.</td>\n",
       "      <td>[1, 1, 1, 0, 2, 1, 0, 0, 0]</td>\n",
       "      <td>[0.16666666666666666, 0.16666666666666666, 0.1...</td>\n",
       "    </tr>\n",
       "    <tr>\n",
       "      <th>2</th>\n",
       "      <td>And this is the third one.</td>\n",
       "      <td>[1, 1, 1, 0, 0, 0, 1, 1, 1]</td>\n",
       "      <td>[0.16666666666666666, 0.16666666666666666, 0.1...</td>\n",
       "    </tr>\n",
       "    <tr>\n",
       "      <th>3</th>\n",
       "      <td>Is this the first document?</td>\n",
       "      <td>[1, 1, 1, 1, 1, 0, 0, 0, 0]</td>\n",
       "      <td>[0.2, 0.2, 0.2, 0.2, 0.2]</td>\n",
       "    </tr>\n",
       "  </tbody>\n",
       "</table>\n",
       "</div>"
      ],
      "text/plain": [
       "                                    Text                 Count_Vector   \n",
       "0            This is the first document.  [1, 1, 1, 1, 1, 0, 0, 0, 0]  \\\n",
       "1  This document is the second document.  [1, 1, 1, 0, 2, 1, 0, 0, 0]   \n",
       "2             And this is the third one.  [1, 1, 1, 0, 0, 0, 1, 1, 1]   \n",
       "3            Is this the first document?  [1, 1, 1, 1, 1, 0, 0, 0, 0]   \n",
       "\n",
       "                                         Probability  \n",
       "0                          [0.2, 0.2, 0.2, 0.2, 0.2]  \n",
       "1  [0.16666666666666666, 0.16666666666666666, 0.1...  \n",
       "2  [0.16666666666666666, 0.16666666666666666, 0.1...  \n",
       "3                          [0.2, 0.2, 0.2, 0.2, 0.2]  "
      ]
     },
     "metadata": {},
     "output_type": "display_data"
    }
   ],
   "source": [
    "df2 = pd.read_csv(\"corpus_count_and_probability.csv\") #confirmation it works\n",
    "\n",
    "display(df2)"
   ]
  },
  {
   "cell_type": "markdown",
   "id": "41c56eef-5e75-41b5-a05c-f68d0b7d98fd",
   "metadata": {},
   "source": [
    "### Task 3 (4 points)\n",
    "\n",
    "The goal of this task is to train and test classifiers provided in scikit-learn, using two datasets `rural.txt` and `science.txt`.\n",
    "\n",
    "a) Each file (rural and science) contains sentence-wise documents. You should create a dataframe containing two columns: \"Document\" and \" Class\", as shown below. This dataframe will be used later as input for the vectorizer.\n",
    "\n",
    "|Document                             |Class |\n",
    "| ------------------------------------|----- | \n",
    "|PM denies knowledge of AWB kickbacks | rural |\n",
    "|The crocodile ancestor fossil, found...| science |\n",
    "\n",
    " \n",
    "b) Split the data into train (70%) and test (30%) sets and use the tf-idf-vectorizer to train following classifiers provided by scikit-learn:\n",
    "\n",
    "- naive_bayes.GaussianNB()\n",
    "- svm.LinearSVC(). \n",
    "\n",
    "c) Evaluate both classifiers using the test set, report accuracy, recall, precision, f1 scores and confusion matrix.\n",
    "\n",
    "**Hints:**\n",
    "1. The Gaussian NB Classifier takes a dense matrix as input and the output of the vectorizer is a sparse matrix. Use my_matrix.toarray() for this conversion.\n",
    "2. You can play around with various parameters in both the tf-idf-vectorizer and the classifier to get a better performance in terms of the accuracy. (In the exercise, we will discuss the accuracy of your model.)"
   ]
  },
  {
   "cell_type": "code",
   "execution_count": null,
   "id": "4f4b527a-0d04-4a0e-9281-fec9e0cd0ec0",
   "metadata": {},
   "outputs": [],
   "source": [
    "# Here comes your code"
   ]
  }
 ],
 "metadata": {
  "kernelspec": {
   "display_name": "Python 3 (ipykernel)",
   "language": "python",
   "name": "python3"
  },
  "language_info": {
   "codemirror_mode": {
    "name": "ipython",
    "version": 3
   },
   "file_extension": ".py",
   "mimetype": "text/x-python",
   "name": "python",
   "nbconvert_exporter": "python",
   "pygments_lexer": "ipython3",
   "version": "3.10.9"
  }
 },
 "nbformat": 4,
 "nbformat_minor": 5
}
