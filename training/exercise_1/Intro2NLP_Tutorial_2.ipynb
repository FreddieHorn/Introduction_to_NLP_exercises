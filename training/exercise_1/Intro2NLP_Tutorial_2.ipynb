{
 "cells": [
  {
   "cell_type": "markdown",
   "id": "4e7e3cb3",
   "metadata": {},
   "source": [
    "# Introduction to Natural Language Processing\n",
    "\n",
    "## Tutorial 1\n",
    "\n",
    "In our last session we could observe some functionality about jupyter notebooks: `?` and also `!` as well as how to `import` libraries and how the `\"hello world\"` in Python looks like. \n",
    "\n",
    "Today, we will take a look at a couple of more details. Jupyter Notebooks are very useful, given that they allow to execute code in cells. If you hit `shift + enter`, that will execute the current cell where you are located. Additionally, you can include only text in markdown language or html, as in this cell or you can run code as in some cells below.\n",
    "\n",
    "Let's begin..."
   ]
  },
  {
   "cell_type": "markdown",
   "id": "6f7d879f",
   "metadata": {},
   "source": [
    "# PYTHON BASICS"
   ]
  },
  {
   "cell_type": "markdown",
   "id": "9b6a8194",
   "metadata": {},
   "source": [
    "## Arrays and Hash Maps are called Lists and Dictionaries \n",
    "\n",
    "What we commonly know as an array is called in Python a list. Similarly we have also a dictionary as data structure which are like lookup tables. One interesting aspect here is that we can mix several types into this structures."
   ]
  },
  {
   "cell_type": "code",
   "execution_count": 9,
   "id": "59e5d310",
   "metadata": {},
   "outputs": [],
   "source": [
    "my_string = \"TEST ABC\"\n",
    "my_integer = 42\n",
    "my_slice = my_string[:3]\n",
    "my_float = 3.5"
   ]
  },
  {
   "cell_type": "code",
   "execution_count": 10,
   "id": "ec4c574a",
   "metadata": {},
   "outputs": [],
   "source": [
    "my_list = [my_string, my_integer, my_slice, my_float]"
   ]
  },
  {
   "cell_type": "code",
   "execution_count": 11,
   "id": "91c6ef4d",
   "metadata": {},
   "outputs": [
    {
     "name": "stdout",
     "output_type": "stream",
     "text": [
      "['TEST ABC', 42, 'TES', 3.5]\n"
     ]
    }
   ],
   "source": [
    "print(my_list)"
   ]
  },
  {
   "cell_type": "code",
   "execution_count": 12,
   "id": "ab92108a",
   "metadata": {},
   "outputs": [],
   "source": [
    "another_list = my_string.split(\" \") + my_list"
   ]
  },
  {
   "cell_type": "code",
   "execution_count": 13,
   "id": "a1c3fabe",
   "metadata": {},
   "outputs": [
    {
     "name": "stdout",
     "output_type": "stream",
     "text": [
      "['TEST', 'ABC', 'TEST ABC', 42, 'TES', 3.5]\n"
     ]
    }
   ],
   "source": [
    "print(another_list)"
   ]
  },
  {
   "cell_type": "code",
   "execution_count": 14,
   "id": "0f3fff08",
   "metadata": {},
   "outputs": [],
   "source": [
    "my_list.append(my_string.split(\" \"))"
   ]
  },
  {
   "cell_type": "code",
   "execution_count": 15,
   "id": "46e73aa6",
   "metadata": {},
   "outputs": [
    {
     "name": "stdout",
     "output_type": "stream",
     "text": [
      "['TEST ABC', 42, 'TES', 3.5, ['TEST', 'ABC']]\n"
     ]
    }
   ],
   "source": [
    "print(my_list)"
   ]
  },
  {
   "cell_type": "code",
   "execution_count": 20,
   "id": "7aa3cad2",
   "metadata": {},
   "outputs": [],
   "source": [
    "my_dict = {\"a\": 1, \"b\":2, \"c\": 3, \"d\": my_list}"
   ]
  },
  {
   "cell_type": "code",
   "execution_count": 21,
   "id": "f99cb9b7",
   "metadata": {},
   "outputs": [
    {
     "name": "stdout",
     "output_type": "stream",
     "text": [
      "{'a': 1, 'b': 2, 'c': 3, 'd': ['TEST ABC', 42, 'TES', 3.5, ['TEST', 'ABC']]}\n"
     ]
    }
   ],
   "source": [
    "print(my_dict)"
   ]
  },
  {
   "cell_type": "markdown",
   "id": "196d53c6",
   "metadata": {},
   "source": [
    "## Defining Functions\n",
    "\n",
    "Here we can start giving instructions and creating a recipe of what we want to obtain.\n",
    "\n",
    "Let's say that we want a function to return always the last letter of a word in a string"
   ]
  },
  {
   "cell_type": "code",
   "execution_count": 4,
   "id": "d2d810ce",
   "metadata": {},
   "outputs": [],
   "source": [
    "this_string = \"Introduction to Natural Language Processing, tutorial two\""
   ]
  },
  {
   "cell_type": "code",
   "execution_count": 7,
   "id": "74037b0b",
   "metadata": {},
   "outputs": [],
   "source": [
    "def extract_last_letter(any_string):\n",
    "    # here comes your code\n",
    "    letter_list = []\n",
    "    word_list = any_string.split(\" \")\n",
    "    for word in word_list:\n",
    "        letter_list.append(word[-1])\n",
    "    return letter_list"
   ]
  },
  {
   "cell_type": "code",
   "execution_count": 8,
   "id": "e1bd0a1a",
   "metadata": {},
   "outputs": [],
   "source": [
    "my_letter_list = extract_last_letter(this_string)"
   ]
  },
  {
   "cell_type": "code",
   "execution_count": 9,
   "id": "526e9100",
   "metadata": {},
   "outputs": [
    {
     "name": "stdout",
     "output_type": "stream",
     "text": [
      "['n', 'o', 'l', 'e', ',', 'l', 'o']\n"
     ]
    }
   ],
   "source": [
    "print(my_letter_list)"
   ]
  },
  {
   "cell_type": "markdown",
   "id": "eac73fe6",
   "metadata": {},
   "source": [
    "## It's time for you to play around\n",
    "\n",
    "Create a function that returns every word in a string in lowercase and and another one for uppercase\n",
    "\n",
    "**Hint:** explore the funtions `upper` and `lower`"
   ]
  },
  {
   "cell_type": "code",
   "execution_count": 10,
   "id": "637fc32e",
   "metadata": {},
   "outputs": [],
   "source": [
    "def return_lower(any_string):\n",
    "    return any_string.lower()\n",
    "    # here comes your code"
   ]
  },
  {
   "cell_type": "code",
   "execution_count": 11,
   "id": "8d7b7637",
   "metadata": {},
   "outputs": [
    {
     "name": "stdout",
     "output_type": "stream",
     "text": [
      "introduction to natural language processing, tutorial two\n"
     ]
    }
   ],
   "source": [
    "print(return_lower(this_string))"
   ]
  },
  {
   "cell_type": "code",
   "execution_count": 12,
   "id": "c599e938",
   "metadata": {},
   "outputs": [],
   "source": [
    "def return_upper(any_string):\n",
    "    return any_string.upper()\n",
    "    # here comes your code"
   ]
  },
  {
   "cell_type": "code",
   "execution_count": 13,
   "id": "f0b8fd1e",
   "metadata": {},
   "outputs": [
    {
     "name": "stdout",
     "output_type": "stream",
     "text": [
      "INTRODUCTION TO NATURAL LANGUAGE PROCESSING, TUTORIAL TWO\n"
     ]
    }
   ],
   "source": [
    "print(return_upper(this_string))"
   ]
  },
  {
   "cell_type": "markdown",
   "id": "f32af0cd",
   "metadata": {},
   "source": [
    "## Iterating\n",
    "\n",
    "There are several ways of iterating, you can use the `enumerate()` method or you can combine `for`, `range` and the \n",
    "`length` of your type. Please make sure that you use meaningful names here. \n",
    "\n",
    "Let's look at an example let's create a function that returns a mapping of each word in a string and it's index"
   ]
  },
  {
   "cell_type": "code",
   "execution_count": 14,
   "id": "2bb4fac7",
   "metadata": {},
   "outputs": [],
   "source": [
    "def map_word_to_index(any_string):\n",
    "    word_list = any_string.split(\" \")\n",
    "    my_mapping = {}\n",
    "    for index in range(len(word_list)):\n",
    "        my_mapping[word_list[index]] = index\n",
    "    return my_mapping"
   ]
  },
  {
   "cell_type": "code",
   "execution_count": 15,
   "id": "9a026ddd",
   "metadata": {},
   "outputs": [
    {
     "name": "stdout",
     "output_type": "stream",
     "text": [
      "{'Introduction': 0, 'to': 1, 'Natural': 2, 'Language': 3, 'Processing,': 4, 'tutorial': 5, 'two': 6}\n"
     ]
    }
   ],
   "source": [
    "print(map_word_to_index(this_string))"
   ]
  },
  {
   "cell_type": "markdown",
   "id": "ba272103",
   "metadata": {},
   "source": [
    "Now: try to explore the `enumerate()` method and write a similar function to return a list with only words with *even* indexes."
   ]
  },
  {
   "cell_type": "code",
   "execution_count": 17,
   "id": "29e997af",
   "metadata": {
    "scrolled": true
   },
   "outputs": [],
   "source": [
    "def extract_even_words(any_string):\n",
    "    # here comes your code\n",
    "    word_list = any_string.split(\" \")\n",
    "    even_words = []\n",
    "    for index, word in enumerate(word_list):\n",
    "        if index % 2 == 0:\n",
    "            even_words.append(word)\n",
    "    return even_words"
   ]
  },
  {
   "cell_type": "code",
   "execution_count": 36,
   "id": "cc9e2b22",
   "metadata": {},
   "outputs": [],
   "source": [
    "# def extract_even_words(any_string):\n",
    "#     # here comes your code\n",
    "#     return mapping"
   ]
  },
  {
   "cell_type": "code",
   "execution_count": 18,
   "id": "1d994620",
   "metadata": {},
   "outputs": [
    {
     "name": "stdout",
     "output_type": "stream",
     "text": [
      "['Introduction', 'Natural', 'Processing,', 'two']\n"
     ]
    }
   ],
   "source": [
    "print(extract_even_words(this_string))"
   ]
  },
  {
   "cell_type": "markdown",
   "id": "5c7c5e2b",
   "metadata": {},
   "source": [
    "## Reading text files\n",
    "\n",
    "We want to know is how to read files in Python. There are several posibilities of using `open()`, which is the function to work with files. My favorite is to use `with` as a safe option."
   ]
  },
  {
   "cell_type": "code",
   "execution_count": 39,
   "id": "3f714a2d",
   "metadata": {},
   "outputs": [
    {
     "name": "stdout",
     "output_type": "stream",
     "text": [
      "Play Services bittet User um Erlaubnis für:\\n\\n* Before starting to scan for and broadcast beacons.\\n* Before providing user keys to the app for uploading to the […] server once the user has been positively diagnosed with COVID-19.\\n\\n#CoronaApp dürfte das nicht verhindern können!\n"
     ]
    }
   ],
   "source": [
    "with open(\"tweet.txt\", 'r') as my_file:\n",
    "    for line in my_file:\n",
    "        print(line)"
   ]
  },
  {
   "cell_type": "markdown",
   "id": "0be0abcd",
   "metadata": {},
   "source": [
    "## Reading csv files\n",
    "\n",
    "Take the survey.csv file as an example ..."
   ]
  },
  {
   "cell_type": "code",
   "execution_count": 1,
   "id": "e14ca903",
   "metadata": {},
   "outputs": [],
   "source": [
    "import pandas as pd "
   ]
  },
  {
   "cell_type": "code",
   "execution_count": 2,
   "id": "4617b893",
   "metadata": {},
   "outputs": [
    {
     "data": {
      "text/html": [
       "<div>\n",
       "<style scoped>\n",
       "    .dataframe tbody tr th:only-of-type {\n",
       "        vertical-align: middle;\n",
       "    }\n",
       "\n",
       "    .dataframe tbody tr th {\n",
       "        vertical-align: top;\n",
       "    }\n",
       "\n",
       "    .dataframe thead th {\n",
       "        text-align: right;\n",
       "    }\n",
       "</style>\n",
       "<table border=\"1\" class=\"dataframe\">\n",
       "  <thead>\n",
       "    <tr style=\"text-align: right;\">\n",
       "      <th></th>\n",
       "      <th>Unnamed: 0</th>\n",
       "      <th>Unnamed: 1</th>\n",
       "      <th>Unnamed: 2</th>\n",
       "      <th>Unnamed: 3</th>\n",
       "      <th>Unnamed: 4</th>\n",
       "      <th>Unnamed: 5</th>\n",
       "      <th>Unnamed: 6</th>\n",
       "      <th>Unnamed: 7</th>\n",
       "      <th>Unnamed: 8</th>\n",
       "      <th>Unnamed: 9</th>\n",
       "      <th>...</th>\n",
       "      <th>Unnamed: 16</th>\n",
       "      <th>Unnamed: 17</th>\n",
       "      <th>Unnamed: 18</th>\n",
       "      <th>Unnamed: 19</th>\n",
       "      <th>Unnamed: 20</th>\n",
       "      <th>Unnamed: 21</th>\n",
       "      <th>Unnamed: 22</th>\n",
       "      <th>Unnamed: 23</th>\n",
       "      <th>Unnamed: 24</th>\n",
       "      <th>Unnamed: 25</th>\n",
       "    </tr>\n",
       "  </thead>\n",
       "  <tbody>\n",
       "    <tr>\n",
       "      <th>0</th>\n",
       "      <td>NaN</td>\n",
       "      <td>Course: Introduction to Natural Language Proce...</td>\n",
       "      <td>NaN</td>\n",
       "      <td>NaN</td>\n",
       "      <td>NaN</td>\n",
       "      <td>NaN</td>\n",
       "      <td>NaN</td>\n",
       "      <td>NaN</td>\n",
       "      <td>NaN</td>\n",
       "      <td>NaN</td>\n",
       "      <td>...</td>\n",
       "      <td>NaN</td>\n",
       "      <td>NaN</td>\n",
       "      <td>NaN</td>\n",
       "      <td>NaN</td>\n",
       "      <td>NaN</td>\n",
       "      <td>NaN</td>\n",
       "      <td>NaN</td>\n",
       "      <td>NaN</td>\n",
       "      <td>NaN</td>\n",
       "      <td>NaN</td>\n",
       "    </tr>\n",
       "    <tr>\n",
       "      <th>1</th>\n",
       "      <td>NaN</td>\n",
       "      <td>Lecturer: Prof. Dr. Lucie Flek</td>\n",
       "      <td>NaN</td>\n",
       "      <td>NaN</td>\n",
       "      <td>NaN</td>\n",
       "      <td>NaN</td>\n",
       "      <td>NaN</td>\n",
       "      <td>NaN</td>\n",
       "      <td>NaN</td>\n",
       "      <td>NaN</td>\n",
       "      <td>...</td>\n",
       "      <td>NaN</td>\n",
       "      <td>NaN</td>\n",
       "      <td>NaN</td>\n",
       "      <td>NaN</td>\n",
       "      <td>NaN</td>\n",
       "      <td>NaN</td>\n",
       "      <td>NaN</td>\n",
       "      <td>NaN</td>\n",
       "      <td>NaN</td>\n",
       "      <td>NaN</td>\n",
       "    </tr>\n",
       "    <tr>\n",
       "      <th>2</th>\n",
       "      <td>NaN</td>\n",
       "      <td>Teaching Assistant: Vahid Sadiri Javadi</td>\n",
       "      <td>NaN</td>\n",
       "      <td>NaN</td>\n",
       "      <td>NaN</td>\n",
       "      <td>Also join the Uni Bonn Master Discord!</td>\n",
       "      <td>https://discord.gg/ntEN3bEk</td>\n",
       "      <td>NaN</td>\n",
       "      <td>NaN</td>\n",
       "      <td>NaN</td>\n",
       "      <td>...</td>\n",
       "      <td>NaN</td>\n",
       "      <td>NaN</td>\n",
       "      <td>NaN</td>\n",
       "      <td>NaN</td>\n",
       "      <td>NaN</td>\n",
       "      <td>NaN</td>\n",
       "      <td>NaN</td>\n",
       "      <td>NaN</td>\n",
       "      <td>NaN</td>\n",
       "      <td>NaN</td>\n",
       "    </tr>\n",
       "    <tr>\n",
       "      <th>3</th>\n",
       "      <td>NaN</td>\n",
       "      <td>NaN</td>\n",
       "      <td>NaN</td>\n",
       "      <td>NaN</td>\n",
       "      <td>NaN</td>\n",
       "      <td>NaN</td>\n",
       "      <td>NaN</td>\n",
       "      <td>NaN</td>\n",
       "      <td>NaN</td>\n",
       "      <td>NaN</td>\n",
       "      <td>...</td>\n",
       "      <td>NaN</td>\n",
       "      <td>NaN</td>\n",
       "      <td>NaN</td>\n",
       "      <td>NaN</td>\n",
       "      <td>NaN</td>\n",
       "      <td>NaN</td>\n",
       "      <td>NaN</td>\n",
       "      <td>NaN</td>\n",
       "      <td>NaN</td>\n",
       "      <td>NaN</td>\n",
       "    </tr>\n",
       "    <tr>\n",
       "      <th>4</th>\n",
       "      <td>NaN</td>\n",
       "      <td>Alias</td>\n",
       "      <td>MSc. or BSc.</td>\n",
       "      <td>Study Program</td>\n",
       "      <td>Level of Experience (0 - 5) (Python)</td>\n",
       "      <td>Level of Experience (0 - 5) (Programming)</td>\n",
       "      <td>ML or AI Course?  (ML/ AI/ None)</td>\n",
       "      <td>Where are you?  (City)</td>\n",
       "      <td>NaN</td>\n",
       "      <td>NaN</td>\n",
       "      <td>...</td>\n",
       "      <td>NaN</td>\n",
       "      <td>NaN</td>\n",
       "      <td>NaN</td>\n",
       "      <td>NaN</td>\n",
       "      <td>NaN</td>\n",
       "      <td>NaN</td>\n",
       "      <td>NaN</td>\n",
       "      <td>NaN</td>\n",
       "      <td>NaN</td>\n",
       "      <td>NaN</td>\n",
       "    </tr>\n",
       "    <tr>\n",
       "      <th>5</th>\n",
       "      <td>NaN</td>\n",
       "      <td>NaN</td>\n",
       "      <td>NaN</td>\n",
       "      <td>NaN</td>\n",
       "      <td>NaN</td>\n",
       "      <td>NaN</td>\n",
       "      <td>NaN</td>\n",
       "      <td>NaN</td>\n",
       "      <td>NaN</td>\n",
       "      <td>MSc. or BSc.</td>\n",
       "      <td>...</td>\n",
       "      <td>NaN</td>\n",
       "      <td>NaN</td>\n",
       "      <td>NaN</td>\n",
       "      <td>NaN</td>\n",
       "      <td>NaN</td>\n",
       "      <td>NaN</td>\n",
       "      <td>NaN</td>\n",
       "      <td>NaN</td>\n",
       "      <td>NaN</td>\n",
       "      <td>NaN</td>\n",
       "    </tr>\n",
       "    <tr>\n",
       "      <th>6</th>\n",
       "      <td>NaN</td>\n",
       "      <td>Vahid</td>\n",
       "      <td>MSc.</td>\n",
       "      <td>Data Science</td>\n",
       "      <td>1</td>\n",
       "      <td>1</td>\n",
       "      <td>ML &amp; AI</td>\n",
       "      <td>Marburg</td>\n",
       "      <td>NaN</td>\n",
       "      <td>NaN</td>\n",
       "      <td>...</td>\n",
       "      <td>NaN</td>\n",
       "      <td>NaN</td>\n",
       "      <td>NaN</td>\n",
       "      <td>NaN</td>\n",
       "      <td>NaN</td>\n",
       "      <td>NaN</td>\n",
       "      <td>NaN</td>\n",
       "      <td>NaN</td>\n",
       "      <td>NaN</td>\n",
       "      <td>NaN</td>\n",
       "    </tr>\n",
       "    <tr>\n",
       "      <th>7</th>\n",
       "      <td>NaN</td>\n",
       "      <td>Florian</td>\n",
       "      <td>MSc.</td>\n",
       "      <td>Computer Science</td>\n",
       "      <td>5</td>\n",
       "      <td>5</td>\n",
       "      <td>ML &amp; AI</td>\n",
       "      <td>Bonn</td>\n",
       "      <td>NaN</td>\n",
       "      <td>MSc.</td>\n",
       "      <td>...</td>\n",
       "      <td>NaN</td>\n",
       "      <td>NaN</td>\n",
       "      <td>NaN</td>\n",
       "      <td>NaN</td>\n",
       "      <td>NaN</td>\n",
       "      <td>NaN</td>\n",
       "      <td>NaN</td>\n",
       "      <td>NaN</td>\n",
       "      <td>NaN</td>\n",
       "      <td>NaN</td>\n",
       "    </tr>\n",
       "    <tr>\n",
       "      <th>8</th>\n",
       "      <td>NaN</td>\n",
       "      <td>Daria</td>\n",
       "      <td>MSc.</td>\n",
       "      <td>Computer Science</td>\n",
       "      <td>3</td>\n",
       "      <td>3</td>\n",
       "      <td>NaN</td>\n",
       "      <td>Bonn</td>\n",
       "      <td>NaN</td>\n",
       "      <td>BSc.</td>\n",
       "      <td>...</td>\n",
       "      <td>NaN</td>\n",
       "      <td>NaN</td>\n",
       "      <td>NaN</td>\n",
       "      <td>NaN</td>\n",
       "      <td>NaN</td>\n",
       "      <td>NaN</td>\n",
       "      <td>NaN</td>\n",
       "      <td>NaN</td>\n",
       "      <td>NaN</td>\n",
       "      <td>NaN</td>\n",
       "    </tr>\n",
       "    <tr>\n",
       "      <th>9</th>\n",
       "      <td>NaN</td>\n",
       "      <td>Behzad</td>\n",
       "      <td>MSc.</td>\n",
       "      <td>Computer Science</td>\n",
       "      <td>5</td>\n",
       "      <td>5</td>\n",
       "      <td>ML &amp; AI</td>\n",
       "      <td>Bonn</td>\n",
       "      <td>NaN</td>\n",
       "      <td>NaN</td>\n",
       "      <td>...</td>\n",
       "      <td>NaN</td>\n",
       "      <td>NaN</td>\n",
       "      <td>NaN</td>\n",
       "      <td>NaN</td>\n",
       "      <td>NaN</td>\n",
       "      <td>NaN</td>\n",
       "      <td>NaN</td>\n",
       "      <td>NaN</td>\n",
       "      <td>NaN</td>\n",
       "      <td>NaN</td>\n",
       "    </tr>\n",
       "  </tbody>\n",
       "</table>\n",
       "<p>10 rows × 26 columns</p>\n",
       "</div>"
      ],
      "text/plain": [
       "   Unnamed: 0                                         Unnamed: 1   \n",
       "0         NaN  Course: Introduction to Natural Language Proce...  \\\n",
       "1         NaN                     Lecturer: Prof. Dr. Lucie Flek   \n",
       "2         NaN            Teaching Assistant: Vahid Sadiri Javadi   \n",
       "3         NaN                                                NaN   \n",
       "4         NaN                                              Alias   \n",
       "5         NaN                                                NaN   \n",
       "6         NaN                                              Vahid   \n",
       "7         NaN                                            Florian   \n",
       "8         NaN                                              Daria   \n",
       "9         NaN                                             Behzad   \n",
       "\n",
       "     Unnamed: 2        Unnamed: 3                            Unnamed: 4   \n",
       "0           NaN               NaN                                   NaN  \\\n",
       "1           NaN               NaN                                   NaN   \n",
       "2           NaN               NaN                                   NaN   \n",
       "3           NaN               NaN                                   NaN   \n",
       "4  MSc. or BSc.     Study Program  Level of Experience (0 - 5) (Python)   \n",
       "5           NaN               NaN                                   NaN   \n",
       "6          MSc.      Data Science                                     1   \n",
       "7          MSc.  Computer Science                                     5   \n",
       "8          MSc.  Computer Science                                     3   \n",
       "9          MSc.  Computer Science                                     5   \n",
       "\n",
       "                                  Unnamed: 5   \n",
       "0                                        NaN  \\\n",
       "1                                        NaN   \n",
       "2     Also join the Uni Bonn Master Discord!   \n",
       "3                                        NaN   \n",
       "4  Level of Experience (0 - 5) (Programming)   \n",
       "5                                        NaN   \n",
       "6                                          1   \n",
       "7                                          5   \n",
       "8                                          3   \n",
       "9                                          5   \n",
       "\n",
       "                         Unnamed: 6              Unnamed: 7  Unnamed: 8   \n",
       "0                               NaN                     NaN         NaN  \\\n",
       "1                               NaN                     NaN         NaN   \n",
       "2       https://discord.gg/ntEN3bEk                     NaN         NaN   \n",
       "3                               NaN                     NaN         NaN   \n",
       "4  ML or AI Course?  (ML/ AI/ None)  Where are you?  (City)         NaN   \n",
       "5                               NaN                     NaN         NaN   \n",
       "6                           ML & AI                 Marburg         NaN   \n",
       "7                           ML & AI                    Bonn         NaN   \n",
       "8                               NaN                    Bonn         NaN   \n",
       "9                           ML & AI                    Bonn         NaN   \n",
       "\n",
       "     Unnamed: 9  ...  Unnamed: 16  Unnamed: 17  Unnamed: 18  Unnamed: 19   \n",
       "0           NaN  ...          NaN          NaN          NaN          NaN  \\\n",
       "1           NaN  ...          NaN          NaN          NaN          NaN   \n",
       "2           NaN  ...          NaN          NaN          NaN          NaN   \n",
       "3           NaN  ...          NaN          NaN          NaN          NaN   \n",
       "4           NaN  ...          NaN          NaN          NaN          NaN   \n",
       "5  MSc. or BSc.  ...          NaN          NaN          NaN          NaN   \n",
       "6           NaN  ...          NaN          NaN          NaN          NaN   \n",
       "7          MSc.  ...          NaN          NaN          NaN          NaN   \n",
       "8          BSc.  ...          NaN          NaN          NaN          NaN   \n",
       "9           NaN  ...          NaN          NaN          NaN          NaN   \n",
       "\n",
       "   Unnamed: 20  Unnamed: 21  Unnamed: 22  Unnamed: 23  Unnamed: 24   \n",
       "0          NaN          NaN          NaN          NaN          NaN  \\\n",
       "1          NaN          NaN          NaN          NaN          NaN   \n",
       "2          NaN          NaN          NaN          NaN          NaN   \n",
       "3          NaN          NaN          NaN          NaN          NaN   \n",
       "4          NaN          NaN          NaN          NaN          NaN   \n",
       "5          NaN          NaN          NaN          NaN          NaN   \n",
       "6          NaN          NaN          NaN          NaN          NaN   \n",
       "7          NaN          NaN          NaN          NaN          NaN   \n",
       "8          NaN          NaN          NaN          NaN          NaN   \n",
       "9          NaN          NaN          NaN          NaN          NaN   \n",
       "\n",
       "   Unnamed: 25  \n",
       "0          NaN  \n",
       "1          NaN  \n",
       "2          NaN  \n",
       "3          NaN  \n",
       "4          NaN  \n",
       "5          NaN  \n",
       "6          NaN  \n",
       "7          NaN  \n",
       "8          NaN  \n",
       "9          NaN  \n",
       "\n",
       "[10 rows x 26 columns]"
      ]
     },
     "execution_count": 2,
     "metadata": {},
     "output_type": "execute_result"
    }
   ],
   "source": [
    "# here comes your code\n",
    "\n",
    "df = pd.read_csv(\"Survey.csv\")\n",
    "df.head(10)"
   ]
  },
  {
   "cell_type": "code",
   "execution_count": null,
   "id": "554923c6",
   "metadata": {},
   "outputs": [],
   "source": []
  }
 ],
 "metadata": {
  "kernelspec": {
   "display_name": "muzg",
   "language": "python",
   "name": "python3"
  },
  "language_info": {
   "codemirror_mode": {
    "name": "ipython",
    "version": 3
   },
   "file_extension": ".py",
   "mimetype": "text/x-python",
   "name": "python",
   "nbconvert_exporter": "python",
   "pygments_lexer": "ipython3",
   "version": "3.9.16"
  },
  "vscode": {
   "interpreter": {
    "hash": "0ec255d9500f0731d3ee4cf9330b8c459660a20ba16debf7b7475062f15fcd9c"
   }
  }
 },
 "nbformat": 4,
 "nbformat_minor": 5
}
